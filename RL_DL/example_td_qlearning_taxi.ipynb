{
  "cells": [
    {
      "cell_type": "code",
      "execution_count": 1,
      "metadata": {
        "colab": {
          "base_uri": "https://localhost:8080/"
        },
        "id": "3jWksotyRNVO",
        "outputId": "49e52077-eedc-4142-d8be-4b79d5cbbe17"
      },
      "outputs": [
        {
          "name": "stdout",
          "output_type": "stream",
          "text": [
            "Requirement already satisfied: gym[accept_rom_license,atari,toy_text] in /usr/local/lib/python3.10/dist-packages (0.25.2)\n",
            "\u001b[33mWARNING: gym 0.25.2 does not provide the extra 'accept_rom_license'\u001b[0m\u001b[33m\n",
            "\u001b[0mRequirement already satisfied: numpy>=1.18.0 in /usr/local/lib/python3.10/dist-packages (from gym[accept_rom_license,atari,toy_text]) (1.22.4)\n",
            "Requirement already satisfied: cloudpickle>=1.2.0 in /usr/local/lib/python3.10/dist-packages (from gym[accept_rom_license,atari,toy_text]) (2.2.1)\n",
            "Requirement already satisfied: gym-notices>=0.0.4 in /usr/local/lib/python3.10/dist-packages (from gym[accept_rom_license,atari,toy_text]) (0.0.8)\n",
            "Collecting ale-py~=0.7.5 (from gym[accept_rom_license,atari,toy_text])\n",
            "  Downloading ale_py-0.7.5-cp310-cp310-manylinux_2_17_x86_64.manylinux2014_x86_64.whl (1.6 MB)\n",
            "\u001b[2K     \u001b[90m━━━━━━━━━━━━━━━━━━━━━━━━━━━━━━━━━━━━━━━━\u001b[0m \u001b[32m1.6/1.6 MB\u001b[0m \u001b[31m14.3 MB/s\u001b[0m eta \u001b[36m0:00:00\u001b[0m\n",
            "\u001b[?25hCollecting pygame==2.1.0 (from gym[accept_rom_license,atari,toy_text])\n",
            "  Downloading pygame-2.1.0-cp310-cp310-manylinux_2_17_x86_64.manylinux2014_x86_64.whl (18.3 MB)\n",
            "\u001b[2K     \u001b[90m━━━━━━━━━━━━━━━━━━━━━━━━━━━━━━━━━━━━━━━━\u001b[0m \u001b[32m18.3/18.3 MB\u001b[0m \u001b[31m30.6 MB/s\u001b[0m eta \u001b[36m0:00:00\u001b[0m\n",
            "\u001b[?25hRequirement already satisfied: importlib-resources in /usr/local/lib/python3.10/dist-packages (from ale-py~=0.7.5->gym[accept_rom_license,atari,toy_text]) (6.0.0)\n",
            "Installing collected packages: pygame, ale-py\n",
            "  Attempting uninstall: pygame\n",
            "    Found existing installation: pygame 2.5.0\n",
            "    Uninstalling pygame-2.5.0:\n",
            "      Successfully uninstalled pygame-2.5.0\n",
            "Successfully installed ale-py-0.7.5 pygame-2.1.0\n"
          ]
        }
      ],
      "source": [
        "!pip install gym[atari,toy_text,accept_rom_license]"
      ]
    },
    {
      "cell_type": "code",
      "execution_count": 19,
      "metadata": {
        "id": "M6dN2WFTRbdp"
      },
      "outputs": [],
      "source": [
        "import numpy as np\n",
        "import random\n",
        "import gym\n",
        "env = gym.make('Taxi-v3', new_step_api=True)\n",
        "\n",
        "# step types\n",
        "STEPTYPE_FIRST = 0\n",
        "STEPTYPE_MID = 1\n",
        "STEPTYPE_LAST = 2\n",
        "\n",
        "Q = np.random.uniform(size=(500, 6))"
      ]
    },
    {
      "cell_type": "code",
      "execution_count": 37,
      "metadata": {
        "colab": {
          "base_uri": "https://localhost:8080/"
        },
        "id": "h9L64PFbVwpw",
        "outputId": "5baeefc3-7604-4776-aea6-d97a08efc8cc"
      },
      "outputs": [
        {
          "name": "stderr",
          "output_type": "stream",
          "text": [
            "/usr/local/lib/python3.10/dist-packages/ipykernel/ipkernel.py:283: DeprecationWarning: `should_run_async` will not call `transform_cell` automatically in the future. Please pass the result to `transformed_cell` argument and any exception that happen during thetransform in `preprocessing_exc_tuple` in IPython 7.17 and above.\n",
            "  and should_run_async(code)\n"
          ]
        },
        {
          "data": {
            "text/plain": [
              "348"
            ]
          },
          "execution_count": 37,
          "metadata": {},
          "output_type": "execute_result"
        }
      ],
      "source": [
        "env.reset()"
      ]
    },
    {
      "cell_type": "code",
      "execution_count": 38,
      "metadata": {
        "colab": {
          "base_uri": "https://localhost:8080/"
        },
        "id": "073H-qavVy4n",
        "outputId": "1efb5d97-5fd9-428f-f984-9ad4ce74c4c4"
      },
      "outputs": [
        {
          "name": "stderr",
          "output_type": "stream",
          "text": [
            "/usr/local/lib/python3.10/dist-packages/ipykernel/ipkernel.py:283: DeprecationWarning: `should_run_async` will not call `transform_cell` automatically in the future. Please pass the result to `transformed_cell` argument and any exception that happen during thetransform in `preprocessing_exc_tuple` in IPython 7.17 and above.\n",
            "  and should_run_async(code)\n"
          ]
        },
        {
          "data": {
            "text/plain": [
              "(448,\n",
              " -1,\n",
              " False,\n",
              " False,\n",
              " {'prob': 1.0, 'action_mask': array([0, 1, 0, 1, 0, 0], dtype=int8)})"
            ]
          },
          "execution_count": 38,
          "metadata": {},
          "output_type": "execute_result"
        }
      ],
      "source": [
        "env.step(0)"
      ]
    },
    {
      "cell_type": "code",
      "execution_count": 39,
      "metadata": {
        "colab": {
          "base_uri": "https://localhost:8080/"
        },
        "id": "ca9TbK-_TBur",
        "outputId": "f8243347-78b8-42fb-c328-999e482d6207"
      },
      "outputs": [
        {
          "name": "stderr",
          "output_type": "stream",
          "text": [
            "/usr/local/lib/python3.10/dist-packages/ipykernel/ipkernel.py:283: DeprecationWarning: `should_run_async` will not call `transform_cell` automatically in the future. Please pass the result to `transformed_cell` argument and any exception that happen during thetransform in `preprocessing_exc_tuple` in IPython 7.17 and above.\n",
            "  and should_run_async(code)\n"
          ]
        }
      ],
      "source": [
        "# wrapper for gym's blackjack environment\n",
        "def generate_start_step():\n",
        "    return { 'observation': env.reset(), 'reward': 0., 'step_type': STEPTYPE_FIRST }\n",
        "\n",
        "def generate_next_step(step, action):\n",
        "    obs, reward, done, _, info = env.step(action)\n",
        "    step_type = STEPTYPE_LAST if done else STEPTYPE_MID\n",
        "    return { 'observation': obs, 'reward': reward, 'step_type': step_type }"
      ]
    },
    {
      "cell_type": "code",
      "execution_count": 35,
      "metadata": {
        "id": "TEU1Bs_LU0mH"
      },
      "outputs": [],
      "source": [
        "epsilon = 0.1\n",
        "\n",
        "def get_eps_soft_action(step):\n",
        "    # epsilon-soft greedy policy\n",
        "    # ---- fill here ----"
      ]
    },
    {
      "cell_type": "code",
      "execution_count": 28,
      "metadata": {
        "id": "cmFs6E6xTHKB"
      },
      "outputs": [],
      "source": [
        "def get_greedy_action(step):\n",
        "    observ = step['observation']\n",
        "    return np.argmax(Q[observ])"
      ]
    },
    {
      "cell_type": "code",
      "execution_count": 29,
      "metadata": {
        "id": "YvastGlsTJG0"
      },
      "outputs": [],
      "source": [
        "def get_random_action(step):\n",
        "    return random.randint(0, env.action_space.n-1)\n",
        "\n",
        "behavior_prob_hit = 1. / float(env.action_space.n)"
      ]
    },
    {
      "cell_type": "code",
      "execution_count": 30,
      "metadata": {
        "id": "OGwGb5S9TK7N"
      },
      "outputs": [],
      "source": [
        "# return true if (observ, action) exists in epi\n",
        "def in_episode(epi, observ, action):\n",
        "    for s, a in zip(*epi):\n",
        "        if s['observation'] == observ and a == action:\n",
        "            return True\n",
        "    return False"
      ]
    },
    {
      "cell_type": "code",
      "execution_count": 31,
      "metadata": {
        "id": "I0GCIFYETMtH"
      },
      "outputs": [],
      "source": [
        "def generate_episode(policy_func=get_random_action):\n",
        "    episode = list()\n",
        "    actions = list()\n",
        "    frames = list()\n",
        "    step = generate_start_step()\n",
        "    frames.append(env.render(mode='ansi'))\n",
        "    episode.append(step)\n",
        "    while step['step_type'] != STEPTYPE_LAST:\n",
        "        action = policy_func(step)\n",
        "        step = generate_next_step(step, action)\n",
        "        frames.append(env.render(mode='ansi'))\n",
        "        episode.append(step)\n",
        "        actions.append(action)\n",
        "    return episode, actions, frames"
      ]
    },
    {
      "cell_type": "code",
      "execution_count": 32,
      "metadata": {
        "id": "6VTajme1TOB3"
      },
      "outputs": [],
      "source": [
        "from IPython.display import clear_output\n",
        "from time import sleep\n",
        "\n",
        "def print_frames(frames):\n",
        "    for i, frame in enumerate(frames):\n",
        "        clear_output(wait=True)\n",
        "        print(frame)\n",
        "        sleep(.2)"
      ]
    },
    {
      "cell_type": "code",
      "execution_count": 40,
      "metadata": {
        "id": "tzTtqQVwTmP2"
      },
      "outputs": [],
      "source": [
        "maxiter = 100000\n",
        "gamma = 1\n",
        "epsilon = 0.3\n",
        "lr_rate = 0.8\n",
        "\n",
        "Q = np.random.uniform(size=(env.observation_space.n, env.action_space.n))\n",
        "\n",
        "for _ in range(maxiter):\n",
        "    # starting step\n",
        "    step = generate_start_step()\n",
        "    action = get_random_action(step)\n",
        "    done = False\n",
        "    while not done:\n",
        "        next_step = generate_next_step(step, action)\n",
        "\n",
        "        if next_step['step_type'] == STEPTYPE_LAST:\n",
        "            state = step['observation']\n",
        "            idx1 = (state, action)\n",
        "            Q[idx1] = Q[idx1] + lr_rate * (next_step['reward'] - Q[idx1])\n",
        "            done = True\n",
        "        else:\n",
        "            best_action = get_greedy_action(next_step)\n",
        "\n",
        "            state = step['observation']\n",
        "            next_state = next_step['observation']\n",
        "            idx1 = (state, action)\n",
        "            idx2 = (next_state, best_action)\n",
        "            Q[idx1] = Q[idx1] + lr_rate * ((next_step['reward'] + gamma * Q[idx2]) - Q[idx1])\n",
        "\n",
        "            next_action = get_eps_soft_action(step)\n",
        "\n",
        "            step = next_step\n",
        "            action = next_action\n"
      ]
    },
    {
      "cell_type": "code",
      "execution_count": 41,
      "metadata": {
        "colab": {
          "base_uri": "https://localhost:8080/"
        },
        "id": "sUwSbyvZWLyn",
        "outputId": "f5844e46-edf2-4454-a37f-27549110a12f"
      },
      "outputs": [
        {
          "name": "stdout",
          "output_type": "stream",
          "text": [
            "+---------+\n",
            "|R: | : :\u001b[35m\u001b[34;1m\u001b[43mG\u001b[0m\u001b[0m\u001b[0m|\n",
            "| : | : : |\n",
            "| : : : : |\n",
            "| | : | : |\n",
            "|Y| : |B: |\n",
            "+---------+\n",
            "  (Dropoff)\n",
            "\n"
          ]
        }
      ],
      "source": [
        "epi, actions, frames = generate_episode(policy_func=get_greedy_action)\n",
        "print_frames(frames)"
      ]
    },
    {
      "cell_type": "code",
      "execution_count": null,
      "metadata": {
        "id": "kvOoPvwfURYX"
      },
      "outputs": [],
      "source": []
    }
  ],
  "metadata": {
    "colab": {
      "provenance": []
    },
    "kernelspec": {
      "display_name": "Python 3",
      "name": "python3"
    },
    "language_info": {
      "name": "python"
    }
  },
  "nbformat": 4,
  "nbformat_minor": 0
}
