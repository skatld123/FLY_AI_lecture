{
  "cells": [
    {
      "cell_type": "markdown",
      "id": "abe37352-4a88-4c11-b7db-c14b3afb7599",
      "metadata": {
        "id": "abe37352-4a88-4c11-b7db-c14b3afb7599"
      },
      "source": [
        "# The Simple Gridworld Problem"
      ]
    },
    {
      "cell_type": "code",
      "execution_count": 71,
      "id": "4963df85-6833-4292-b163-a0971ae7c056",
      "metadata": {
        "colab": {
          "base_uri": "https://localhost:8080/"
        },
        "id": "4963df85-6833-4292-b163-a0971ae7c056",
        "outputId": "b4d0e6a3-d7d3-4ee2-9703-f2d6cf35e36c"
      },
      "outputs": [
        {
          "output_type": "execute_result",
          "data": {
            "text/plain": [
              "(4, 12, 12)"
            ]
          },
          "metadata": {},
          "execution_count": 71
        }
      ],
      "source": [
        "import numpy as np\n",
        "\n",
        "P = np.array([\n",
        "    # up\n",
        "    [[1, 0, 0, 0, 0, 0, 0, 0, 0, 0, 0, 0],\n",
        "     [0, 1, 0, 0, 0, 0, 0, 0, 0, 0, 0, 0],\n",
        "     [0, 0, 1, 0, 0, 0, 0, 0, 0, 0, 0, 0],\n",
        "     [0, 0, 0, 1, 0, 0, 0, 0, 0, 0, 0, 0],\n",
        "     [1, 0, 0, 0, 0, 0, 0, 0, 0, 0, 0, 0],\n",
        "     [0, 0, 0, 0, 1, 0, 0, 0, 0, 0, 0, 0],\n",
        "     [0, 0, 0, 0, 0, 0, 1, 0, 0, 0, 0, 0],\n",
        "     [0, 0, 0, 0, 0, 1, 0, 0, 0, 0, 0, 0],\n",
        "     [0, 0, 0, 0, 0, 0, 1, 0, 0, 0, 0, 0],\n",
        "     [0, 0, 0, 0, 0, 0, 0, 0, 0, 1, 0, 0],\n",
        "     [0, 0, 0, 0, 0, 0, 0, 0, 0, 0, 0, 1],\n",
        "     [0, 0, 0, 0, 0, 0, 0, 0, 0, 0, 0, 1]],\n",
        "\n",
        "    # down\n",
        "    [[0, 0, 0, 0, 1, 0, 0, 0, 0, 0, 0, 0],\n",
        "     [0, 1, 0, 0, 0, 0, 0, 0, 0, 0, 0, 0],\n",
        "     [0, 0, 1, 0, 0, 0, 0, 0, 0, 0, 0, 0],\n",
        "     [0, 0, 0, 1, 0, 0, 0, 0, 0, 0, 0, 0],\n",
        "     [0, 0, 0, 0, 0, 1, 0, 0, 0, 0, 0, 0],\n",
        "     [0, 0, 0, 0, 0, 0, 0, 1, 0, 0, 0, 0],\n",
        "     [0, 0, 0, 0, 0, 0, 0, 0, 1, 0, 0, 0],\n",
        "     [0, 0, 0, 0, 0, 0, 0, 1, 0, 0, 0, 0],\n",
        "     [0, 0, 0, 0, 0, 0, 0, 0, 1, 0, 0, 0],\n",
        "     [0, 0, 0, 0, 0, 0, 0, 0, 0, 1, 0, 0],\n",
        "     [0, 0, 0, 0, 0, 0, 0, 0, 0, 0, 1, 0],\n",
        "     [0, 0, 0, 0, 0, 0, 0, 0, 0, 0, 1, 0]],\n",
        "\n",
        "    # left\n",
        "    [[1, 0, 0, 0, 0, 0, 0, 0, 0, 0, 0, 0],\n",
        "     [1, 0, 0, 0, 0, 0, 0, 0, 0, 0, 0, 0],\n",
        "     [0, 1, 0, 0, 0, 0, 0, 0, 0, 0, 0, 0],\n",
        "     [0, 0, 1, 0, 0, 0, 0, 0, 0, 0, 0, 0],\n",
        "     [0, 0, 0, 0, 1, 0, 0, 0, 0, 0, 0, 0],\n",
        "     [0, 0, 0, 0, 0, 1, 0, 0, 0, 0, 0, 0],\n",
        "     [0, 0, 0, 0, 0, 1, 0, 0, 0, 0, 0, 0],\n",
        "     [0, 0, 0, 0, 0, 0, 0, 1, 0, 0, 0, 0],\n",
        "     [0, 0, 0, 0, 0, 0, 0, 1, 0, 0, 0, 0],\n",
        "     [0, 0, 0, 0, 0, 0, 0, 0, 1, 0, 0, 0],\n",
        "     [0, 0, 0, 0, 0, 0, 0, 0, 0, 1, 0, 0],\n",
        "     [0, 0, 0, 0, 0, 0, 0, 0, 0, 0, 0, 1]],\n",
        "\n",
        "    # right\n",
        "    [[0, 1, 0, 0, 0, 0, 0, 0, 0, 0, 0, 0],\n",
        "     [0, 0, 1, 0, 0, 0, 0, 0, 0, 0, 0, 0],\n",
        "     [0, 0, 0, 1, 0, 0, 0, 0, 0, 0, 0, 0],\n",
        "     [0, 0, 0, 1, 0, 0, 0, 0, 0, 0, 0, 0],\n",
        "     [0, 0, 0, 0, 1, 0, 0, 0, 0, 0, 0, 0],\n",
        "     [0, 0, 0, 0, 0, 0, 1, 0, 0, 0, 0, 0],\n",
        "     [0, 0, 0, 0, 0, 0, 1, 0, 0, 0, 0, 0],\n",
        "     [0, 0, 0, 0, 0, 0, 0, 0, 1, 0, 0, 0],\n",
        "     [0, 0, 0, 0, 0, 0, 0, 0, 0, 1, 0, 0],\n",
        "     [0, 0, 0, 0, 0, 0, 0, 0, 0, 0, 1, 0],\n",
        "     [0, 0, 0, 0, 0, 0, 0, 0, 0, 0, 1, 0],\n",
        "     [0, 0, 0, 0, 0, 0, 0, 0, 0, 0, 0, 1]]], dtype='float32')\n",
        "\n",
        "P.shape"
      ]
    },
    {
      "cell_type": "code",
      "execution_count": 72,
      "id": "7a1e1a68-a51e-42a3-979a-2820637cdb46",
      "metadata": {
        "id": "7a1e1a68-a51e-42a3-979a-2820637cdb46"
      },
      "outputs": [],
      "source": [
        "P = P.transpose(1, 0, 2)"
      ]
    },
    {
      "cell_type": "code",
      "execution_count": 73,
      "id": "86b6143f-dd03-4c30-b617-0f1e38fe967b",
      "metadata": {
        "colab": {
          "base_uri": "https://localhost:8080/"
        },
        "id": "86b6143f-dd03-4c30-b617-0f1e38fe967b",
        "outputId": "0a0c2e39-cf73-4227-e296-a74ce250b54d"
      },
      "outputs": [
        {
          "output_type": "execute_result",
          "data": {
            "text/plain": [
              "(12, 4, 12)"
            ]
          },
          "metadata": {},
          "execution_count": 73
        }
      ],
      "source": [
        "P.shape"
      ]
    },
    {
      "cell_type": "code",
      "execution_count": 74,
      "id": "3ce09b51-cf71-4e8e-b520-57de84fa68ac",
      "metadata": {
        "tags": [],
        "id": "3ce09b51-cf71-4e8e-b520-57de84fa68ac"
      },
      "outputs": [],
      "source": [
        "R = np.array([\n",
        "    # 0  1   2   3  4   5    6  7   8   9  10  11\n",
        "    [-1, -1, -1, -1, -1, -1, -1, -1, -1, -1, 1, 1], # up\n",
        "    [-1, -1, -1, -1, -1, -1, -1, -1, -1, -1, -1, -1], # down\n",
        "    [-1, -1, -1, -1, -1, -1, -1, -1, -1, -1, -1, -1], # left\n",
        "    [-1, -1, -1, -1, -1, -1, -1, -1, -1, -1, -1, -1]], #right\n",
        "    dtype='float32')"
      ]
    },
    {
      "cell_type": "code",
      "execution_count": 75,
      "id": "b3e28746-7410-4bff-9536-4881de76bc7a",
      "metadata": {
        "colab": {
          "base_uri": "https://localhost:8080/"
        },
        "id": "b3e28746-7410-4bff-9536-4881de76bc7a",
        "outputId": "dd7d98ac-ce84-4981-dc83-a6309d88ed0c"
      },
      "outputs": [
        {
          "output_type": "execute_result",
          "data": {
            "text/plain": [
              "(4, 12)"
            ]
          },
          "metadata": {},
          "execution_count": 75
        }
      ],
      "source": [
        "R.shape"
      ]
    },
    {
      "cell_type": "code",
      "execution_count": 76,
      "id": "55e5d7a5-5312-4313-8949-44d0b4564dc8",
      "metadata": {
        "id": "55e5d7a5-5312-4313-8949-44d0b4564dc8"
      },
      "outputs": [],
      "source": [
        "R = R.transpose()"
      ]
    },
    {
      "cell_type": "code",
      "execution_count": 77,
      "id": "ec0efe69-4c45-4a44-b4b9-e818b2d206a8",
      "metadata": {
        "colab": {
          "base_uri": "https://localhost:8080/"
        },
        "id": "ec0efe69-4c45-4a44-b4b9-e818b2d206a8",
        "outputId": "5b0eab87-86fa-4ff0-affd-36c703c280dc"
      },
      "outputs": [
        {
          "output_type": "execute_result",
          "data": {
            "text/plain": [
              "(12, 4)"
            ]
          },
          "metadata": {},
          "execution_count": 77
        }
      ],
      "source": [
        "R.shape"
      ]
    },
    {
      "cell_type": "code",
      "execution_count": 78,
      "id": "9f13bbae-9c52-4ca5-92ea-8da4b2618604",
      "metadata": {
        "id": "9f13bbae-9c52-4ca5-92ea-8da4b2618604"
      },
      "outputs": [],
      "source": [
        "pi = np.ones((12, 4), dtype='float32') * 0.25"
      ]
    },
    {
      "cell_type": "code",
      "execution_count": 79,
      "id": "64a52d91-e7c2-46a2-bed7-b160d51423b1",
      "metadata": {
        "colab": {
          "base_uri": "https://localhost:8080/"
        },
        "id": "64a52d91-e7c2-46a2-bed7-b160d51423b1",
        "outputId": "7a3d06d7-7648-4b1a-ad56-1cdc946134ae"
      },
      "outputs": [
        {
          "output_type": "execute_result",
          "data": {
            "text/plain": [
              "(12, 4)"
            ]
          },
          "metadata": {},
          "execution_count": 79
        }
      ],
      "source": [
        "pi.shape"
      ]
    },
    {
      "cell_type": "markdown",
      "source": [],
      "metadata": {
        "id": "bQpoBGbtqI2q"
      },
      "id": "bQpoBGbtqI2q"
    },
    {
      "cell_type": "markdown",
      "id": "653cf068-a4fa-4c61-938b-03821f02b244",
      "metadata": {
        "id": "653cf068-a4fa-4c61-938b-03821f02b244"
      },
      "source": [
        "### In summary,"
      ]
    },
    {
      "cell_type": "code",
      "execution_count": 80,
      "id": "9621be64-6454-46d5-89c9-4a7159fbc40a",
      "metadata": {
        "colab": {
          "base_uri": "https://localhost:8080/"
        },
        "id": "9621be64-6454-46d5-89c9-4a7159fbc40a",
        "outputId": "ff753585-c662-4629-96f0-b35f8d6cf35a"
      },
      "outputs": [
        {
          "output_type": "stream",
          "name": "stdout",
          "text": [
            "[[-2.499886   -2.4994948  -2.499886   -2.499974  ]\n",
            " [-2.499974   -2.499974   -2.499886   -2.4999938 ]\n",
            " [-2.4999938  -2.4999938  -2.499974   -2.499998  ]\n",
            " [-2.499998   -2.499998   -2.4999938  -2.499998  ]\n",
            " [-2.499886   -2.4977574  -2.4994948  -2.4994948 ]\n",
            " [-2.4994948  -2.4938993  -2.4977574  -2.4938993 ]\n",
            " [-2.4938993  -2.4737744  -2.4977574  -2.4938993 ]\n",
            " [-2.4977574  -2.4938993  -2.4938993  -2.4737744 ]\n",
            " [-2.4938993  -2.4737744  -2.4938993  -2.3635895 ]\n",
            " [-2.3635895  -2.3635895  -2.4737744  -1.8896443 ]\n",
            " [ 0.21191543 -1.8896443  -2.3635895  -1.8896443 ]\n",
            " [ 0.21191543 -1.8896443  -1.7880845  -1.7880845 ]]\n",
            "[[-2.3600326  -2.2667205  -2.3600326  -2.41602   ]\n",
            " [-2.41602    -2.41602    -2.3600326  -2.4496121 ]\n",
            " [-2.4496121  -2.4496121  -2.41602    -2.4697676 ]\n",
            " [-2.4697676  -2.4697676  -2.4496121  -2.4697676 ]\n",
            " [-2.3600326  -2.1112006  -2.2667205  -2.2667205 ]\n",
            " [-2.2667205  -1.8520006  -2.1112006  -1.8520006 ]\n",
            " [-1.8520006  -1.4200006  -2.1112006  -1.8520006 ]\n",
            " [-2.1112006  -1.8520006  -1.8520006  -1.4200006 ]\n",
            " [-1.8520006  -1.4200006  -1.8520006  -0.7000005 ]\n",
            " [-0.7000005  -0.7000005  -1.4200006   0.49999952]\n",
            " [ 2.4999995   0.49999952 -0.7000005   0.49999952]\n",
            " [ 2.4999995   0.49999952  0.49999952  0.49999952]]\n",
            "[[0. 1. 0. 0.]\n",
            " [0. 0. 1. 0.]\n",
            " [0. 0. 1. 0.]\n",
            " [0. 0. 1. 0.]\n",
            " [0. 1. 0. 0.]\n",
            " [0. 1. 0. 0.]\n",
            " [0. 1. 0. 0.]\n",
            " [0. 0. 0. 1.]\n",
            " [0. 0. 0. 1.]\n",
            " [0. 0. 0. 1.]\n",
            " [1. 0. 0. 0.]\n",
            " [1. 0. 0. 0.]]\n"
          ]
        }
      ],
      "source": [
        "def policy_eval(P, R, pi, maxiter=30):\n",
        "    V = np.zeros((maxiter, 12), dtype='float32')\n",
        "\n",
        "    for i in range(maxiter-1):\n",
        "        V[i+1] = np.squeeze(\n",
        "            np.matmul(\n",
        "                np.expand_dims( pi, 1 ),\n",
        "                np.expand_dims( R + 0.6 * np.dot(P, V[i]), 2 )))\n",
        "\n",
        "    return V[maxiter-1]\n",
        "\n",
        "def policy_upd(P, R, v):\n",
        "    print(np.squeeze(np.expand_dims( R + 0.6 * np.dot(P, v), 2 )))\n",
        "    a_idx = np.argmax(np.squeeze(np.expand_dims( R + 0.6 * np.dot(P, v), 2 )), axis=1)\n",
        "    pi = np.zeros((12, 4), dtype='float32')\n",
        "    pi[range(12), a_idx] = 1.\n",
        "    return pi\n",
        "\n",
        "pi_old = None\n",
        "pi = np.ones((12, 4), dtype='float32') * 0.25\n",
        "\n",
        "while not np.all(np.equal(pi_old, pi)):\n",
        "    pi_old = pi.copy()\n",
        "    v = policy_eval(P, R, pi)\n",
        "    pi = policy_upd(P, R, v)\n",
        "\n",
        "print(pi)"
      ]
    },
    {
      "cell_type": "code",
      "execution_count": 80,
      "id": "80c01550-0ecb-4586-9840-7e035a1136aa",
      "metadata": {
        "id": "80c01550-0ecb-4586-9840-7e035a1136aa"
      },
      "outputs": [],
      "source": []
    }
  ],
  "metadata": {
    "kernelspec": {
      "display_name": "Python 3",
      "name": "python3"
    },
    "language_info": {
      "codemirror_mode": {
        "name": "ipython",
        "version": 3
      },
      "file_extension": ".py",
      "mimetype": "text/x-python",
      "name": "python",
      "nbconvert_exporter": "python",
      "pygments_lexer": "ipython3",
      "version": "3.10.12"
    },
    "colab": {
      "provenance": [],
      "gpuType": "T4"
    },
    "accelerator": "GPU"
  },
  "nbformat": 4,
  "nbformat_minor": 5
}