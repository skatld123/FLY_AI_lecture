{
  "nbformat": 4,
  "nbformat_minor": 0,
  "metadata": {
    "colab": {
      "provenance": []
    },
    "kernelspec": {
      "name": "python3",
      "display_name": "Python 3"
    },
    "language_info": {
      "name": "python"
    }
  },
  "cells": [
    {
      "cell_type": "code",
      "execution_count": null,
      "metadata": {
        "colab": {
          "base_uri": "https://localhost:8080/"
        },
        "id": "787HrikrIbzu",
        "outputId": "b9d4e2f0-5459-4c9e-fdd2-7c3354585370"
      },
      "outputs": [
        {
          "output_type": "stream",
          "name": "stdout",
          "text": [
            "Collecting openai\n",
            "  Downloading openai-1.39.0-py3-none-any.whl.metadata (22 kB)\n",
            "Requirement already satisfied: anyio<5,>=3.5.0 in /usr/local/lib/python3.10/dist-packages (from openai) (3.7.1)\n",
            "Requirement already satisfied: distro<2,>=1.7.0 in /usr/lib/python3/dist-packages (from openai) (1.7.0)\n",
            "Collecting httpx<1,>=0.23.0 (from openai)\n",
            "  Downloading httpx-0.27.0-py3-none-any.whl.metadata (7.2 kB)\n",
            "Requirement already satisfied: pydantic<3,>=1.9.0 in /usr/local/lib/python3.10/dist-packages (from openai) (2.8.2)\n",
            "Requirement already satisfied: sniffio in /usr/local/lib/python3.10/dist-packages (from openai) (1.3.1)\n",
            "Requirement already satisfied: tqdm>4 in /usr/local/lib/python3.10/dist-packages (from openai) (4.66.4)\n",
            "Requirement already satisfied: typing-extensions<5,>=4.7 in /usr/local/lib/python3.10/dist-packages (from openai) (4.12.2)\n",
            "Requirement already satisfied: idna>=2.8 in /usr/local/lib/python3.10/dist-packages (from anyio<5,>=3.5.0->openai) (3.7)\n",
            "Requirement already satisfied: exceptiongroup in /usr/local/lib/python3.10/dist-packages (from anyio<5,>=3.5.0->openai) (1.2.2)\n",
            "Requirement already satisfied: certifi in /usr/local/lib/python3.10/dist-packages (from httpx<1,>=0.23.0->openai) (2024.7.4)\n",
            "Collecting httpcore==1.* (from httpx<1,>=0.23.0->openai)\n",
            "  Downloading httpcore-1.0.5-py3-none-any.whl.metadata (20 kB)\n",
            "Collecting h11<0.15,>=0.13 (from httpcore==1.*->httpx<1,>=0.23.0->openai)\n",
            "  Downloading h11-0.14.0-py3-none-any.whl.metadata (8.2 kB)\n",
            "Requirement already satisfied: annotated-types>=0.4.0 in /usr/local/lib/python3.10/dist-packages (from pydantic<3,>=1.9.0->openai) (0.7.0)\n",
            "Requirement already satisfied: pydantic-core==2.20.1 in /usr/local/lib/python3.10/dist-packages (from pydantic<3,>=1.9.0->openai) (2.20.1)\n",
            "Downloading openai-1.39.0-py3-none-any.whl (336 kB)\n",
            "\u001b[2K   \u001b[90m━━━━━━━━━━━━━━━━━━━━━━━━━━━━━━━━━━━━━━━━\u001b[0m \u001b[32m336.7/336.7 kB\u001b[0m \u001b[31m10.5 MB/s\u001b[0m eta \u001b[36m0:00:00\u001b[0m\n",
            "\u001b[?25hDownloading httpx-0.27.0-py3-none-any.whl (75 kB)\n",
            "\u001b[2K   \u001b[90m━━━━━━━━━━━━━━━━━━━━━━━━━━━━━━━━━━━━━━━━\u001b[0m \u001b[32m75.6/75.6 kB\u001b[0m \u001b[31m6.4 MB/s\u001b[0m eta \u001b[36m0:00:00\u001b[0m\n",
            "\u001b[?25hDownloading httpcore-1.0.5-py3-none-any.whl (77 kB)\n",
            "\u001b[2K   \u001b[90m━━━━━━━━━━━━━━━━━━━━━━━━━━━━━━━━━━━━━━━━\u001b[0m \u001b[32m77.9/77.9 kB\u001b[0m \u001b[31m5.6 MB/s\u001b[0m eta \u001b[36m0:00:00\u001b[0m\n",
            "\u001b[?25hDownloading h11-0.14.0-py3-none-any.whl (58 kB)\n",
            "\u001b[2K   \u001b[90m━━━━━━━━━━━━━━━━━━━━━━━━━━━━━━━━━━━━━━━━\u001b[0m \u001b[32m58.3/58.3 kB\u001b[0m \u001b[31m4.3 MB/s\u001b[0m eta \u001b[36m0:00:00\u001b[0m\n",
            "\u001b[?25hInstalling collected packages: h11, httpcore, httpx, openai\n",
            "Successfully installed h11-0.14.0 httpcore-1.0.5 httpx-0.27.0 openai-1.39.0\n",
            "Requirement already satisfied: langchain in /usr/local/lib/python3.10/dist-packages (0.2.12)\n",
            "Requirement already satisfied: PyYAML>=5.3 in /usr/local/lib/python3.10/dist-packages (from langchain) (6.0.1)\n",
            "Requirement already satisfied: SQLAlchemy<3,>=1.4 in /usr/local/lib/python3.10/dist-packages (from langchain) (2.0.31)\n",
            "Requirement already satisfied: aiohttp<4.0.0,>=3.8.3 in /usr/local/lib/python3.10/dist-packages (from langchain) (3.10.0)\n",
            "Requirement already satisfied: async-timeout<5.0.0,>=4.0.0 in /usr/local/lib/python3.10/dist-packages (from langchain) (4.0.3)\n",
            "Requirement already satisfied: langchain-core<0.3.0,>=0.2.27 in /usr/local/lib/python3.10/dist-packages (from langchain) (0.2.28)\n",
            "Requirement already satisfied: langchain-text-splitters<0.3.0,>=0.2.0 in /usr/local/lib/python3.10/dist-packages (from langchain) (0.2.2)\n",
            "Requirement already satisfied: langsmith<0.2.0,>=0.1.17 in /usr/local/lib/python3.10/dist-packages (from langchain) (0.1.96)\n",
            "Requirement already satisfied: numpy<2,>=1 in /usr/local/lib/python3.10/dist-packages (from langchain) (1.26.4)\n",
            "Requirement already satisfied: pydantic<3,>=1 in /usr/local/lib/python3.10/dist-packages (from langchain) (2.8.2)\n",
            "Requirement already satisfied: requests<3,>=2 in /usr/local/lib/python3.10/dist-packages (from langchain) (2.31.0)\n",
            "Requirement already satisfied: tenacity!=8.4.0,<9.0.0,>=8.1.0 in /usr/local/lib/python3.10/dist-packages (from langchain) (8.5.0)\n",
            "Requirement already satisfied: aiohappyeyeballs>=2.3.0 in /usr/local/lib/python3.10/dist-packages (from aiohttp<4.0.0,>=3.8.3->langchain) (2.3.4)\n",
            "Requirement already satisfied: aiosignal>=1.1.2 in /usr/local/lib/python3.10/dist-packages (from aiohttp<4.0.0,>=3.8.3->langchain) (1.3.1)\n",
            "Requirement already satisfied: attrs>=17.3.0 in /usr/local/lib/python3.10/dist-packages (from aiohttp<4.0.0,>=3.8.3->langchain) (23.2.0)\n",
            "Requirement already satisfied: frozenlist>=1.1.1 in /usr/local/lib/python3.10/dist-packages (from aiohttp<4.0.0,>=3.8.3->langchain) (1.4.1)\n",
            "Requirement already satisfied: multidict<7.0,>=4.5 in /usr/local/lib/python3.10/dist-packages (from aiohttp<4.0.0,>=3.8.3->langchain) (6.0.5)\n",
            "Requirement already satisfied: yarl<2.0,>=1.0 in /usr/local/lib/python3.10/dist-packages (from aiohttp<4.0.0,>=3.8.3->langchain) (1.9.4)\n",
            "Requirement already satisfied: jsonpatch<2.0,>=1.33 in /usr/local/lib/python3.10/dist-packages (from langchain-core<0.3.0,>=0.2.27->langchain) (1.33)\n",
            "Requirement already satisfied: packaging<25,>=23.2 in /usr/local/lib/python3.10/dist-packages (from langchain-core<0.3.0,>=0.2.27->langchain) (24.1)\n",
            "Requirement already satisfied: typing-extensions>=4.7 in /usr/local/lib/python3.10/dist-packages (from langchain-core<0.3.0,>=0.2.27->langchain) (4.12.2)\n",
            "Requirement already satisfied: orjson<4.0.0,>=3.9.14 in /usr/local/lib/python3.10/dist-packages (from langsmith<0.2.0,>=0.1.17->langchain) (3.10.6)\n",
            "Requirement already satisfied: annotated-types>=0.4.0 in /usr/local/lib/python3.10/dist-packages (from pydantic<3,>=1->langchain) (0.7.0)\n",
            "Requirement already satisfied: pydantic-core==2.20.1 in /usr/local/lib/python3.10/dist-packages (from pydantic<3,>=1->langchain) (2.20.1)\n",
            "Requirement already satisfied: charset-normalizer<4,>=2 in /usr/local/lib/python3.10/dist-packages (from requests<3,>=2->langchain) (3.3.2)\n",
            "Requirement already satisfied: idna<4,>=2.5 in /usr/local/lib/python3.10/dist-packages (from requests<3,>=2->langchain) (3.7)\n",
            "Requirement already satisfied: urllib3<3,>=1.21.1 in /usr/local/lib/python3.10/dist-packages (from requests<3,>=2->langchain) (2.0.7)\n",
            "Requirement already satisfied: certifi>=2017.4.17 in /usr/local/lib/python3.10/dist-packages (from requests<3,>=2->langchain) (2024.7.4)\n",
            "Requirement already satisfied: greenlet!=0.4.17 in /usr/local/lib/python3.10/dist-packages (from SQLAlchemy<3,>=1.4->langchain) (3.0.3)\n",
            "Requirement already satisfied: jsonpointer>=1.9 in /usr/local/lib/python3.10/dist-packages (from jsonpatch<2.0,>=1.33->langchain-core<0.3.0,>=0.2.27->langchain) (3.0.0)\n",
            "Collecting langchain-community\n",
            "  Downloading langchain_community-0.2.11-py3-none-any.whl.metadata (2.7 kB)\n",
            "Requirement already satisfied: langchain-core in /usr/local/lib/python3.10/dist-packages (0.2.28)\n",
            "Requirement already satisfied: PyYAML>=5.3 in /usr/local/lib/python3.10/dist-packages (from langchain-community) (6.0.1)\n",
            "Requirement already satisfied: SQLAlchemy<3,>=1.4 in /usr/local/lib/python3.10/dist-packages (from langchain-community) (2.0.31)\n",
            "Requirement already satisfied: aiohttp<4.0.0,>=3.8.3 in /usr/local/lib/python3.10/dist-packages (from langchain-community) (3.10.0)\n",
            "Collecting dataclasses-json<0.7,>=0.5.7 (from langchain-community)\n",
            "  Downloading dataclasses_json-0.6.7-py3-none-any.whl.metadata (25 kB)\n",
            "Requirement already satisfied: langchain<0.3.0,>=0.2.12 in /usr/local/lib/python3.10/dist-packages (from langchain-community) (0.2.12)\n",
            "Requirement already satisfied: langsmith<0.2.0,>=0.1.0 in /usr/local/lib/python3.10/dist-packages (from langchain-community) (0.1.96)\n",
            "Requirement already satisfied: numpy<2,>=1 in /usr/local/lib/python3.10/dist-packages (from langchain-community) (1.26.4)\n",
            "Requirement already satisfied: requests<3,>=2 in /usr/local/lib/python3.10/dist-packages (from langchain-community) (2.31.0)\n",
            "Requirement already satisfied: tenacity!=8.4.0,<9.0.0,>=8.1.0 in /usr/local/lib/python3.10/dist-packages (from langchain-community) (8.5.0)\n",
            "Requirement already satisfied: jsonpatch<2.0,>=1.33 in /usr/local/lib/python3.10/dist-packages (from langchain-core) (1.33)\n",
            "Requirement already satisfied: packaging<25,>=23.2 in /usr/local/lib/python3.10/dist-packages (from langchain-core) (24.1)\n",
            "Requirement already satisfied: pydantic<3,>=1 in /usr/local/lib/python3.10/dist-packages (from langchain-core) (2.8.2)\n",
            "Requirement already satisfied: typing-extensions>=4.7 in /usr/local/lib/python3.10/dist-packages (from langchain-core) (4.12.2)\n",
            "Requirement already satisfied: aiohappyeyeballs>=2.3.0 in /usr/local/lib/python3.10/dist-packages (from aiohttp<4.0.0,>=3.8.3->langchain-community) (2.3.4)\n",
            "Requirement already satisfied: aiosignal>=1.1.2 in /usr/local/lib/python3.10/dist-packages (from aiohttp<4.0.0,>=3.8.3->langchain-community) (1.3.1)\n",
            "Requirement already satisfied: attrs>=17.3.0 in /usr/local/lib/python3.10/dist-packages (from aiohttp<4.0.0,>=3.8.3->langchain-community) (23.2.0)\n",
            "Requirement already satisfied: frozenlist>=1.1.1 in /usr/local/lib/python3.10/dist-packages (from aiohttp<4.0.0,>=3.8.3->langchain-community) (1.4.1)\n",
            "Requirement already satisfied: multidict<7.0,>=4.5 in /usr/local/lib/python3.10/dist-packages (from aiohttp<4.0.0,>=3.8.3->langchain-community) (6.0.5)\n",
            "Requirement already satisfied: yarl<2.0,>=1.0 in /usr/local/lib/python3.10/dist-packages (from aiohttp<4.0.0,>=3.8.3->langchain-community) (1.9.4)\n",
            "Requirement already satisfied: async-timeout<5.0,>=4.0 in /usr/local/lib/python3.10/dist-packages (from aiohttp<4.0.0,>=3.8.3->langchain-community) (4.0.3)\n",
            "Collecting marshmallow<4.0.0,>=3.18.0 (from dataclasses-json<0.7,>=0.5.7->langchain-community)\n",
            "  Downloading marshmallow-3.21.3-py3-none-any.whl.metadata (7.1 kB)\n",
            "Collecting typing-inspect<1,>=0.4.0 (from dataclasses-json<0.7,>=0.5.7->langchain-community)\n",
            "  Downloading typing_inspect-0.9.0-py3-none-any.whl.metadata (1.5 kB)\n",
            "Requirement already satisfied: jsonpointer>=1.9 in /usr/local/lib/python3.10/dist-packages (from jsonpatch<2.0,>=1.33->langchain-core) (3.0.0)\n",
            "Requirement already satisfied: langchain-text-splitters<0.3.0,>=0.2.0 in /usr/local/lib/python3.10/dist-packages (from langchain<0.3.0,>=0.2.12->langchain-community) (0.2.2)\n",
            "Requirement already satisfied: orjson<4.0.0,>=3.9.14 in /usr/local/lib/python3.10/dist-packages (from langsmith<0.2.0,>=0.1.0->langchain-community) (3.10.6)\n",
            "Requirement already satisfied: annotated-types>=0.4.0 in /usr/local/lib/python3.10/dist-packages (from pydantic<3,>=1->langchain-core) (0.7.0)\n",
            "Requirement already satisfied: pydantic-core==2.20.1 in /usr/local/lib/python3.10/dist-packages (from pydantic<3,>=1->langchain-core) (2.20.1)\n",
            "Requirement already satisfied: charset-normalizer<4,>=2 in /usr/local/lib/python3.10/dist-packages (from requests<3,>=2->langchain-community) (3.3.2)\n",
            "Requirement already satisfied: idna<4,>=2.5 in /usr/local/lib/python3.10/dist-packages (from requests<3,>=2->langchain-community) (3.7)\n",
            "Requirement already satisfied: urllib3<3,>=1.21.1 in /usr/local/lib/python3.10/dist-packages (from requests<3,>=2->langchain-community) (2.0.7)\n",
            "Requirement already satisfied: certifi>=2017.4.17 in /usr/local/lib/python3.10/dist-packages (from requests<3,>=2->langchain-community) (2024.7.4)\n",
            "Requirement already satisfied: greenlet!=0.4.17 in /usr/local/lib/python3.10/dist-packages (from SQLAlchemy<3,>=1.4->langchain-community) (3.0.3)\n",
            "Collecting mypy-extensions>=0.3.0 (from typing-inspect<1,>=0.4.0->dataclasses-json<0.7,>=0.5.7->langchain-community)\n",
            "  Downloading mypy_extensions-1.0.0-py3-none-any.whl.metadata (1.1 kB)\n",
            "Downloading langchain_community-0.2.11-py3-none-any.whl (2.3 MB)\n",
            "\u001b[2K   \u001b[90m━━━━━━━━━━━━━━━━━━━━━━━━━━━━━━━━━━━━━━━━\u001b[0m \u001b[32m2.3/2.3 MB\u001b[0m \u001b[31m39.9 MB/s\u001b[0m eta \u001b[36m0:00:00\u001b[0m\n",
            "\u001b[?25hDownloading dataclasses_json-0.6.7-py3-none-any.whl (28 kB)\n",
            "Downloading marshmallow-3.21.3-py3-none-any.whl (49 kB)\n",
            "\u001b[2K   \u001b[90m━━━━━━━━━━━━━━━━━━━━━━━━━━━━━━━━━━━━━━━━\u001b[0m \u001b[32m49.2/49.2 kB\u001b[0m \u001b[31m2.9 MB/s\u001b[0m eta \u001b[36m0:00:00\u001b[0m\n",
            "\u001b[?25hDownloading typing_inspect-0.9.0-py3-none-any.whl (8.8 kB)\n",
            "Downloading mypy_extensions-1.0.0-py3-none-any.whl (4.7 kB)\n",
            "Installing collected packages: mypy-extensions, marshmallow, typing-inspect, dataclasses-json, langchain-community\n",
            "Successfully installed dataclasses-json-0.6.7 langchain-community-0.2.11 marshmallow-3.21.3 mypy-extensions-1.0.0 typing-inspect-0.9.0\n"
          ]
        }
      ],
      "source": [
        "!pip install openai\n",
        "!pip install langchain\n",
        "!pip install langchain-community langchain-core"
      ]
    },
    {
      "cell_type": "code",
      "source": [
        "import os\n",
        "\n",
        "os.environ[\"OPENAI_API_KEY\"] = '64650e80fc9f42d28849c6a5f601d832'\n",
        "os.environ[\"OPENAI_API_TYPE\"] = 'azure'\n",
        "os.environ[\"OPENAI_API_VERSION\"] = '2023-05-15'\n",
        "os.environ[\"AZURE_OPENAI_ENDPOINT\"] = 'https://sktflyai.openai.azure.com/'"
      ],
      "metadata": {
        "id": "-ZqEkmCkI10x"
      },
      "execution_count": null,
      "outputs": []
    },
    {
      "cell_type": "code",
      "source": [
        "from langchain.llms import AzureOpenAI\n",
        "\n",
        "llm = AzureOpenAI(deployment_name='dev-davinci-002')\n",
        "llm.invoke('Why python is the most popular language? Answer the Korean')"
      ],
      "metadata": {
        "colab": {
          "base_uri": "https://localhost:8080/",
          "height": 194
        },
        "id": "guwFbny5KoaU",
        "outputId": "44b44b9a-c656-49bc-f615-c4b7a7c81b10"
      },
      "execution_count": null,
      "outputs": [
        {
          "output_type": "execute_result",
          "data": {
            "text/plain": [
              "\" guy who just asked me this question on the train.\\n\\nKorean language, the most popular language in the world.\\n\\n- Not Korean, but it is still the most popular language on the planet. In fact, the average Korean speaks Korean for 20 hours per day. And the average Korean speaks English for 0.2 hours per day. And that is why the Korean language is the most popular language in the world.\\n\\nKorean language is the most popular language in the world. (upbeat music)\\n\\nA question to you from me here. I think it's better to ask as a question because I think it's very important. In general, there's a tendency to think that those who are better, those who are powerful, those who are very good, they are better in some way, in some quality. And so I want to ask you the question, is that true? (speaking in foreign language)\\n\\nThe question is, (speaking in foreign language)\\n\\nSo I'm proposing that in fact, those who are better in the world are in fact, better in one way. But they are better in another way. And we can see this. (speaking in foreign language)\\n\\nSo we might think that when we think about the difference between good people\""
            ],
            "application/vnd.google.colaboratory.intrinsic+json": {
              "type": "string"
            }
          },
          "metadata": {},
          "execution_count": 5
        }
      ]
    },
    {
      "cell_type": "code",
      "source": [
        "llm = AzureOpenAI(deployment_name='dev-gpt-35-turbo-instruct')\n",
        "llm.invoke('Why python is the most popular language? Answer the Korean')"
      ],
      "metadata": {
        "colab": {
          "base_uri": "https://localhost:8080/",
          "height": 106
        },
        "id": "IQXEP0VaLw6F",
        "outputId": "dda7f668-19ab-48da-ccd4-05f53755a91f"
      },
      "execution_count": null,
      "outputs": [
        {
          "output_type": "execute_result",
          "data": {
            "text/plain": [
              "'\\n\\n파이썬은 다양한 이유로 인해 가장 인기있는 언어가 됐습니다. 먼저, 파이썬은 배우기 쉽고 읽기 쉬운 문법을 가지고 있어 초보자부터 전문가까지 쉽게 사용할 수 있습니다. 또한 파이썬은 다양한 분야에서 사용할 수 있어서 많은 사람들이 관심을 갖고 있습니다. 데이터 분석, 인공지능, 웹 개발, 자동화 등 다양한 분야에서 사용되고 있기 때문에 다양한 산업에서 파이썬을 필요로 하고 있습니다. 또한 파이썬은 개발 속도가 빠르고 유지보수가 쉬워서 많은 개발자들이 선호하는 언어입니다. 또한 파이썬은'"
            ],
            "application/vnd.google.colaboratory.intrinsic+json": {
              "type": "string"
            }
          },
          "metadata": {},
          "execution_count": 6
        }
      ]
    },
    {
      "cell_type": "code",
      "source": [
        "from langchain.chat_models import AzureChatOpenAI\n",
        "\n",
        "chat = AzureChatOpenAI(deployment_name='dev-gpt-35-turbo')\n",
        "chat.invoke('Why python is the most popular language? Answer the Korean')"
      ],
      "metadata": {
        "colab": {
          "base_uri": "https://localhost:8080/"
        },
        "id": "XkpVzpyyM9kP",
        "outputId": "c5e1c758-7ded-4a92-f4f7-1094e0e854b9"
      },
      "execution_count": null,
      "outputs": [
        {
          "output_type": "execute_result",
          "data": {
            "text/plain": [
              "AIMessage(content='파이썬은 현재 가장 인기 있는 프로그래밍 언어 중 하나입니다. 그 이유는 다음과 같습니다.\\n\\n1. 간결하고 읽기 쉬운 문법: 파이썬은 문법이 간결하고 읽기 쉽습니다. 이는 새로운 프로그래머가 빠르게 배울 수 있고 코드를 이해하기 쉬운 것을 의미합니다. 이러한 특징으로 인해 파이썬은 비전공자들에게도 접근하기 쉬운 언어가 되었습니다.\\n\\n2. 다양한 용도로 사용 가능: 파이썬은 웹 개발, 데이터 분석, 인공지능, 자동화, 게임 개발 등 다양한 분야에서 사용될 수 있습니다. 이는 파이썬이 유연하고 다목적으로 사용할 수 있는 언어라는 것을 의미합니다.\\n\\n3. 큰 커뮤니티와 풍부한 생태계: 파이썬은 전 세계적으로 큰 커뮤니티와 활발한 개발자 생태계를 가지고 있습니다. 이는 파이썬에 대한 지원과 도움을 쉽게 받을 수 있다는 것을 의미합니다. 또한 다양한 라이브러리와 프레임워크가 존재하여 개발자들이 빠르고 효율적으로 프로그램을 개발할 수 있습니다.\\n\\n4. 크로스 플랫폼 지원: 파이썬은 크로스 플랫폼 언어로서 Windows, macOS, Linux 등 다양한 운영체제에서 동일한 코드를 실행할 수 있습니다. 이는 개발자들이 여러 플랫폼에서 동일한 애플리케이션을 개발할 수 있게 합니다.\\n\\n5. 높은 생산성: 파이썬은 동적 타이핑, 자동 메모리 관리 등의 기능을 제공하여 개발자들이 더 적은 코드로 더 빠르게 프로그램을 작성할 수 있습니다. 이는 개발 생산성을 높여줍니다.\\n\\n이러한 이유들로 인해 파이썬은 최근 몇 년간 가장 인기 있는 프로그래밍 언어로 자리 잡았습니다.', response_metadata={'token_usage': {'completion_tokens': 674, 'prompt_tokens': 18, 'total_tokens': 692}, 'model_name': 'gpt-35-turbo', 'system_fingerprint': None, 'finish_reason': 'stop', 'logprobs': None}, id='run-4e02ace1-16de-47e4-a928-423133581e7f-0')"
            ]
          },
          "metadata": {},
          "execution_count": 7
        }
      ]
    },
    {
      "cell_type": "code",
      "source": [
        "chat = AzureChatOpenAI(deployment_name='dev-gpt-35-turbo', temperature=1, max_tokens=500)\n",
        "chat.invoke('Why python is the most popular language? Answer the Korean')"
      ],
      "metadata": {
        "colab": {
          "base_uri": "https://localhost:8080/"
        },
        "id": "nR5oMXyZTuxb",
        "outputId": "ff0f1d0a-4e95-4f3d-b342-74e14139a994"
      },
      "execution_count": null,
      "outputs": [
        {
          "output_type": "execute_result",
          "data": {
            "text/plain": [
              "AIMessage(content='파이썬이 인기 있는 언어인 이유는 다음과 같습니다.\\n\\n1. 쉽고 읽기 쉬운 문법: 파이썬은 사람이 읽고 이해하기 쉬운 문법을 가지고 있습니다. 간결하고 직관적인 코드 작성이 가능하여 파이썬을 사용하는 개발자들은 빠르게 코드를 작성할 수 있습니다.\\n\\n2. 다양한 용도: 파이썬은 다양한 분야에서 사용될 수 있습니다. 데이터 분석, 인공지능, 웹 개발 등 여러 분야에서 높은 수준의 성능을 발휘합니다. 파이썬의 유연성과 다양성은 많은 사람들이 파이썬을 선택하는 이유 중 하나입니다.\\n\\n3. 방대한 생태계: 파이썬은 다양한 라이브러리와 프레임워크들이 존재하여 개발자들이 코드 작성 속도를 높일 수 있습니다. 데이터 분석을 위한 NumPy, Pandas, 인공지능을 위한 TensorFlow, PyTorch, 웹 개발을 위한 Django, Flask 등 다양한 라이브러리와 프레임워크가 존재합니다.\\n\\n4. 커뮤니티와 지원: 파이썬은 전 세계적으로 많은 개발자 커뮤니티와 오픈소스 기반 지원 체계가 존재합니다. 이로 인해 파이썬을 사용하는 개발자들은 문제 해결에 대한 도움과 자료를 얻을 수 있습니다.\\n\\n5. 교육용으로 널리 사용: 파이썬은 문법이 간단하고 배우기 쉬워', response_metadata={'token_usage': {'completion_tokens': 500, 'prompt_tokens': 18, 'total_tokens': 518}, 'model_name': 'gpt-35-turbo', 'system_fingerprint': None, 'finish_reason': 'length', 'logprobs': None}, id='run-49048e1f-f7bc-4c00-b579-46a5566240bb-0')"
            ]
          },
          "metadata": {},
          "execution_count": 9
        }
      ]
    },
    {
      "cell_type": "code",
      "source": [
        "from langchain.callbacks.streaming_stdout import StreamingStdOutCallbackHandler\n",
        "\n",
        "chat = AzureChatOpenAI(deployment_name='dev-gpt-35-turbo',\n",
        "                       streaming=True,\n",
        "                       callbacks=[StreamingStdOutCallbackHandler()])\n",
        "\n",
        "answer = chat.invoke('Why python is the most popular language? Answer the Korean')"
      ],
      "metadata": {
        "colab": {
          "base_uri": "https://localhost:8080/"
        },
        "id": "wG6JZjToUCqG",
        "outputId": "b898722d-48bc-4df6-f310-4fc59cda720d"
      },
      "execution_count": null,
      "outputs": [
        {
          "output_type": "stream",
          "name": "stdout",
          "text": [
            "파이썬은 현재 가장 인기 있는 언어로 평가받는 이유는 여러 가지가 있습니다.\n",
            "\n",
            "1. 쉬운 문법: 파이썬은 읽기 쉽고 이해하기 쉬운 문법을 가지고 있습니다. 다른 프로그래밍 언어에 비해 문법적인 부담이 적어 초보자들도 쉽게 배울 수 있습니다.\n",
            "\n",
            "2. 다양한 용도: 파이썬은 다양한 분야에서 사용될 수 있습니다. 데이터 분석, 웹 개발, 인공지능, 자동화 등 다양한 영역에서 활용될 수 있기 때문에 많은 사람들이 관심을 갖고 있습니다.\n",
            "\n",
            "3. 큰 커뮤니티: 파이썬은 전 세계적으로 큰 규모의 개발자 커뮤니티를 갖고 있습니다. 이러한 커뮤니티에서는 서로 도움을 주고 받을 수 있으며, 다양한 라이브러리와 프레임워크가 개발되고 공유되기 때문에 개발 속도를 빠르게 할 수 있습니다.\n",
            "\n",
            "4. 생산성: 파이썬은 간결한 문법과 다양한 라이브러리를 제공하여 개발자들의 생산성을 높일 수 있습니다. 이미 개발된 많은 코드를 재사용할 수 있고, 빠른 프로토타이핑이 가능하기 때문에 개발 시간을 단축할 수 있습니다.\n",
            "\n",
            "5. 대학과 교육에서의 보급: 파이썬은 대학과 교육 현장에서도 많이 사용되고 있습니다. 이는 파이썬이 초보자들에게 쉽게 접근할 수 있으며, 학생들이 프로그래밍의 기초를 배우기에 적합한 언어라는 것을 의미합니다.\n",
            "\n",
            "이러한 이유들로 인해 파이썬은 많은 사람들에게 인기 있는 언어가 되었고, 계속해서 성장하고 있습니다."
          ]
        }
      ]
    },
    {
      "cell_type": "code",
      "source": [
        "from langchain.schema import SystemMessage, AIMessage, HumanMessage\n",
        "\n",
        "message = [\n",
        "    SystemMessage(content='You are a helpful assistant the translates English to Korean'),\n",
        "    HumanMessage(content='I love Korea')\n",
        "]\n",
        "\n",
        "answer = chat.invoke(message)"
      ],
      "metadata": {
        "colab": {
          "base_uri": "https://localhost:8080/"
        },
        "id": "8VCK4y12Wk94",
        "outputId": "c98ce54d-4ce4-42fe-bd47-378dd51bc0f5"
      },
      "execution_count": null,
      "outputs": [
        {
          "output_type": "stream",
          "name": "stdout",
          "text": [
            "나는 한국을 사랑해요."
          ]
        }
      ]
    },
    {
      "cell_type": "code",
      "source": [
        "message = [\n",
        "    SystemMessage(content='당신은 공부 계획을 세워주는 스터디 플래너이다. 주제를 입력 받으면 공부 계획을 세워줘'),\n",
        "    HumanMessage(content='Large Language Model에 대해서 공부하고 싶어요')\n",
        "]\n",
        "\n",
        "answer = chat.invoke(message)"
      ],
      "metadata": {
        "colab": {
          "base_uri": "https://localhost:8080/"
        },
        "id": "szjSEFKFXgqM",
        "outputId": "f71de205-cd35-48f6-c194-c766fb6a3a33"
      },
      "execution_count": null,
      "outputs": [
        {
          "output_type": "stream",
          "name": "stdout",
          "text": [
            "Large Language Model에 대한 공부 계획을 세워드리겠습니다.\n",
            "\n",
            "1. 기본 개념 이해하기\n",
            "   - Large Language Model이란 무엇인지 이해하기\n",
            "   - 주요 용어와 개념 (예: Transformer, BERT 등) 학습하기\n",
            "   - Large Language Model의 작동 원리 이해하기\n",
            "\n",
            "2. 관련 논문 읽기\n",
            "   - \"Attention Is All You Need\" 논문 읽기\n",
            "   - \"BERT: Pre-training of Deep Bidirectional Transformers for Language Understanding\" 논문 읽기\n",
            "   - 다른 관련 논문들도 읽어보기 (예: GPT, GPT-2, GPT-3 등)\n",
            "\n",
            "3. Large Language Model의 응용 분야 탐구하기\n",
            "   - 자연어 처리 (NLP) 분야에서 Large Language Model의 활용 사례 조사하기\n",
            "   - 기계 번역, 문서 요약, 챗봇 등 다양한 응용 분야에서의 활용 사례 알아보기\n",
            "\n",
            "4. 실제 구현 및 실험해보기\n",
            "   - TensorFlow, PyTorch 등의 프레임워크를 사용하여 Large Language Model 구현하기\n",
            "   - 사전 학습된 모델을 사용하여 다양한 NLP 태스크에 대한 실험 진행하기\n",
            "   - Large Language Model의 성능 평가 및 개선 방안 탐구하기\n",
            "\n",
            "5. 최신 동향과 연구 기회 파악하기\n",
            "   - 관련 컨퍼런스 및 학회의 발표 자료, 논문 등을 찾아보며 최신 동향 파악하기\n",
            "   - 관련 연구 기회 (예: 대회, 공모전 등) 참여해보기\n",
            "\n",
            "6. 관련 자료 및 강의 참고하기\n",
            "   - 인터넷에서 제공하는 관련 자료 및 강의 (예: Coursera, YouTube, 블로그 등) 참고하기\n",
            "   - 관련된 오픈 소스 프로젝트나 GitHub 저장소 등을 찾아보며 참고 자료 수집하기\n",
            "\n",
            "위의 계획을 참고하여 Large Language Model에 대한 공부를 시작해보세요. 일정을 잘 조절하고 꾸준한 학습을 통해 깊이 있는 이해를 할 수 있을 것입니다."
          ]
        }
      ]
    },
    {
      "cell_type": "code",
      "source": [],
      "metadata": {
        "id": "sX6OWIhIYf8T"
      },
      "execution_count": null,
      "outputs": []
    }
  ]
}